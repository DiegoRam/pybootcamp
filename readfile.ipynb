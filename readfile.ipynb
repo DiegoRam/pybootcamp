{
 "metadata": {
  "name": "",
  "signature": "sha256:ab5c3a1b2bf771ad0914883cc49cff4acb61b1a6d2d3f2f5863f71c24133972c"
 },
 "nbformat": 3,
 "nbformat_minor": 0,
 "worksheets": [
  {
   "cells": [
    {
     "cell_type": "code",
     "collapsed": false,
     "input": [
      "ordered_list = {}"
     ],
     "language": "python",
     "metadata": {},
     "outputs": [],
     "prompt_number": 1
    },
    {
     "cell_type": "code",
     "collapsed": false,
     "input": [
      "import csv"
     ],
     "language": "python",
     "metadata": {},
     "outputs": [],
     "prompt_number": 2
    },
    {
     "cell_type": "code",
     "collapsed": false,
     "input": [
      "file = open('resources/cookies.csv', 'rb')"
     ],
     "language": "python",
     "metadata": {},
     "outputs": [],
     "prompt_number": 3
    },
    {
     "cell_type": "code",
     "collapsed": false,
     "input": [
      "reader = csv.reader(file, delimiter=',')"
     ],
     "language": "python",
     "metadata": {},
     "outputs": [],
     "prompt_number": 4
    },
    {
     "cell_type": "code",
     "collapsed": false,
     "input": [
      "for row in reader:\n",
      "    if row[0] in ordered_list:\n",
      "        ordered_list[row[0]] = ordered_list[row[0]] + int(row[1])\n",
      "    else:\n",
      "        ordered_list[row[0]] = int(row[1])\n"
     ],
     "language": "python",
     "metadata": {},
     "outputs": [],
     "prompt_number": 5
    },
    {
     "cell_type": "code",
     "collapsed": false,
     "input": [
      "ordered_list"
     ],
     "language": "python",
     "metadata": {},
     "outputs": [
      {
       "metadata": {},
       "output_type": "pyout",
       "prompt_number": 6,
       "text": [
        "{'Carlos': 7,\n",
        " 'Cesar': 4,\n",
        " 'Crystal': 7,\n",
        " 'Diego': 21,\n",
        " 'Ezequiel': 3,\n",
        " 'Jonathan': 6,\n",
        " 'Juan': 6,\n",
        " 'Marcelo': 7}"
       ]
      }
     ],
     "prompt_number": 6
    }
   ],
   "metadata": {}
  }
 ]
}